{
 "cells": [
  {
   "cell_type": "markdown",
   "metadata": {},
   "source": [
    "# Photon deflection demo\n",
    "Numeric geodesic vs weak-field analytic $\\Delta\\varphi = 4 r_s / b$"
   ]
  },
  {
   "cell_type": "code",
   "execution_count": null,
   "metadata": {},
   "outputs": [],
   "source": [
    "import math\n",
    "from splitstep_toe.geometry.geodesic import integrate_photon\n",
    "rs, b, r0 = 2.0, 50.0, 100.0\n",
    "_, phi_fin, _ = integrate_photon(r0, b, rs, nsteps=2000, dl=0.1)\n",
    "delta_phi_num = math.pi - 2*phi_fin\n",
    "delta_phi_ana = 4*rs/b\n",
    "print(f\"Δφ_num = {delta_phi_num:.4f}   Δφ_theory = {delta_phi_ana:.4f}\")"
   ]
  }
 ],
 "metadata": {
  "kernelspec": { "display_name": "Python 3", "language": "python", "name": "python3" },
  "language_info": { "name": "python", "version": "3.10" }
 },
 "nbformat": 4,
 "nbformat_minor": 5
}
