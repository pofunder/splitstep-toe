# cell 1 – verification
import numpy as np, matplotlib.pyplot as plt
from splitstep_toe.core.fft import laplacian_fft
from splitstep_toe.core.laplacian import laplacian_2d  # reuse for a slice

f = np.sin(np.mgrid[0:2*np.pi:64j, 0:2*np.pi:64j, 0:2*np.pi:64j][0])
lap_fft = laplacian_fft(f)[32]        # take middle z-slice
lap_fd  = laplacian_2d(f[32])

plt.imshow(lap_fft - lap_fd, cmap="seismic")
plt.colorbar(); plt.title("FFT – FD error");

# cell 2 – timing (simple %timeit comparison)
