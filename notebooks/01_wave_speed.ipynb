{
 "cells": [
  {
   "cell_type": "markdown",
   "metadata": {},
   "source": [
    "# Wave-speed benchmark\n",
    "Quick pulse simulation on a 61×61 grid; linear-fit gives\n",
    "$$c_\\text{num}\\;\\approx\\;\\sqrt{\\kappa+\\gamma}$$"
   ]
  },
  {
   "cell_type": "code",
   "execution_count": null,
   "metadata": {},
   "outputs": [],
   "source": [
    "import numpy as np, matplotlib.pyplot as plt\n",
    "from splitstep_toe.core.engine import step_2d\n",
    "\n",
    "ny = nx = 61\n",
    "kappa, lam, gamma, h = 0.25, 1e-4, 1.0, 1.0\n",
    "R_prev = np.zeros((ny, nx))\n",
    "R_curr = np.zeros_like(R_prev)\n",
    "R_curr[ny//2, nx//2] = 1.0\n",
    "\n",
    "times, radii = [], []\n",
    "for t in range(120):\n",
    "    R_prev, R_curr = R_curr, step_2d(R_prev, R_curr, kappa, lam, gamma, h)\n",
    "    y, x = np.unravel_index(np.argmax(np.abs(R_curr)), R_curr.shape)\n",
    "    r = np.hypot(y - ny//2, x - nx//2)\n",
    "    times.append(t)\n",
    "    radii.append(r)\n",
    "\n",
    "c_num = np.polyfit(times, radii, 1)[0]\n",
    "c_theory = (kappa + gamma) ** 0.5\n",
    "print(f\"c_num = {c_num:.3f}  |  c_theory = {c_theory:.3f}\")\n",
    "\n",
    "plt.plot(times, radii, label='numeric')\n",
    "plt.plot(times, [c_theory*t for t in times], '--', label='theory')\n",
    "plt.xlabel('time step'); plt.ylabel('radius'); plt.legend();\n",
    "plt.savefig('../paper/figs/wave_speed.png', dpi=120)"
   ]
  }
 ],
 "metadata": {
  "kernelspec": { "display_name": "Python 3", "language": "python", "name": "python3" },
  "language_info": { "name": "python", "version": "3.10" }
 },
 "nbformat": 4,
 "nbformat_minor": 5
}
